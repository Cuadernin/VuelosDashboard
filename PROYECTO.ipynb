{
 "cells": [
  {
   "cell_type": "markdown",
   "metadata": {},
   "source": [
    "# ANÁLISIS DE VUELOS"
   ]
  },
  {
   "cell_type": "markdown",
   "metadata": {},
   "source": [
    "_POR ERWIN EDUARDO GUERRERO CAZARES_"
   ]
  },
  {
   "cell_type": "markdown",
   "metadata": {},
   "source": [
    "**1. Leerlo con R para convertirlo en un data.frame**"
   ]
  },
  {
   "cell_type": "code",
   "execution_count": 1,
   "metadata": {
    "ExecuteTime": {
     "end_time": "2021-08-22T00:48:20.183151Z",
     "start_time": "2021-08-22T00:48:18.166Z"
    }
   },
   "outputs": [],
   "source": [
    "data=read.csv(\"C:/Users/Erwin Eduardo G.C/Documents/IFMEX/Semana1/BASES_RECIBIDAS/SEMANA1/flights.csv\")"
   ]
  },
  {
   "cell_type": "markdown",
   "metadata": {},
   "source": [
    "PROCEDEMOS A REALIZAR UNA PREVISUALIZACIÓN RÁPIDA Y UN BREVE ENTENDIMIENTO DEL DATASET"
   ]
  },
  {
   "cell_type": "code",
   "execution_count": 2,
   "metadata": {
    "ExecuteTime": {
     "end_time": "2021-08-22T00:48:53.122935Z",
     "start_time": "2021-08-22T00:48:23.437Z"
    }
   },
   "outputs": [
    {
     "data": {
      "text/html": [
       "<table class=\"dataframe\">\n",
       "<caption>A data.frame: 6 × 16</caption>\n",
       "<thead>\n",
       "\t<tr><th></th><th scope=col>year</th><th scope=col>month</th><th scope=col>day</th><th scope=col>dep_time</th><th scope=col>dep_delay</th><th scope=col>arr_time</th><th scope=col>arr_delay</th><th scope=col>carrier</th><th scope=col>tailnum</th><th scope=col>flight</th><th scope=col>origin</th><th scope=col>dest</th><th scope=col>air_time</th><th scope=col>distance</th><th scope=col>hour</th><th scope=col>minute</th></tr>\n",
       "\t<tr><th></th><th scope=col>&lt;int&gt;</th><th scope=col>&lt;int&gt;</th><th scope=col>&lt;int&gt;</th><th scope=col>&lt;int&gt;</th><th scope=col>&lt;int&gt;</th><th scope=col>&lt;int&gt;</th><th scope=col>&lt;int&gt;</th><th scope=col>&lt;chr&gt;</th><th scope=col>&lt;chr&gt;</th><th scope=col>&lt;int&gt;</th><th scope=col>&lt;chr&gt;</th><th scope=col>&lt;chr&gt;</th><th scope=col>&lt;int&gt;</th><th scope=col>&lt;int&gt;</th><th scope=col>&lt;int&gt;</th><th scope=col>&lt;int&gt;</th></tr>\n",
       "</thead>\n",
       "<tbody>\n",
       "\t<tr><th scope=row>1</th><td>2014</td><td>1</td><td>1</td><td> 1</td><td>96</td><td>235</td><td> 70</td><td>AS</td><td>N508AS</td><td> 145</td><td>PDX</td><td>ANC</td><td>194</td><td>1542</td><td>0</td><td> 1</td></tr>\n",
       "\t<tr><th scope=row>2</th><td>2014</td><td>1</td><td>1</td><td> 4</td><td>-6</td><td>738</td><td>-23</td><td>US</td><td>N195UW</td><td>1830</td><td>SEA</td><td>CLT</td><td>252</td><td>2279</td><td>0</td><td> 4</td></tr>\n",
       "\t<tr><th scope=row>3</th><td>2014</td><td>1</td><td>1</td><td> 8</td><td>13</td><td>548</td><td> -4</td><td>UA</td><td>N37422</td><td>1609</td><td>PDX</td><td>IAH</td><td>201</td><td>1825</td><td>0</td><td> 8</td></tr>\n",
       "\t<tr><th scope=row>4</th><td>2014</td><td>1</td><td>1</td><td>28</td><td>-2</td><td>800</td><td>-23</td><td>US</td><td>N547UW</td><td> 466</td><td>PDX</td><td>CLT</td><td>251</td><td>2282</td><td>0</td><td>28</td></tr>\n",
       "\t<tr><th scope=row>5</th><td>2014</td><td>1</td><td>1</td><td>34</td><td>44</td><td>325</td><td> 43</td><td>AS</td><td>N762AS</td><td> 121</td><td>SEA</td><td>ANC</td><td>201</td><td>1448</td><td>0</td><td>34</td></tr>\n",
       "\t<tr><th scope=row>6</th><td>2014</td><td>1</td><td>1</td><td>37</td><td>82</td><td>747</td><td> 88</td><td>DL</td><td>N806DN</td><td>1823</td><td>SEA</td><td>DTW</td><td>224</td><td>1927</td><td>0</td><td>37</td></tr>\n",
       "</tbody>\n",
       "</table>\n"
      ],
      "text/latex": [
       "A data.frame: 6 × 16\n",
       "\\begin{tabular}{r|llllllllllllllll}\n",
       "  & year & month & day & dep\\_time & dep\\_delay & arr\\_time & arr\\_delay & carrier & tailnum & flight & origin & dest & air\\_time & distance & hour & minute\\\\\n",
       "  & <int> & <int> & <int> & <int> & <int> & <int> & <int> & <chr> & <chr> & <int> & <chr> & <chr> & <int> & <int> & <int> & <int>\\\\\n",
       "\\hline\n",
       "\t1 & 2014 & 1 & 1 &  1 & 96 & 235 &  70 & AS & N508AS &  145 & PDX & ANC & 194 & 1542 & 0 &  1\\\\\n",
       "\t2 & 2014 & 1 & 1 &  4 & -6 & 738 & -23 & US & N195UW & 1830 & SEA & CLT & 252 & 2279 & 0 &  4\\\\\n",
       "\t3 & 2014 & 1 & 1 &  8 & 13 & 548 &  -4 & UA & N37422 & 1609 & PDX & IAH & 201 & 1825 & 0 &  8\\\\\n",
       "\t4 & 2014 & 1 & 1 & 28 & -2 & 800 & -23 & US & N547UW &  466 & PDX & CLT & 251 & 2282 & 0 & 28\\\\\n",
       "\t5 & 2014 & 1 & 1 & 34 & 44 & 325 &  43 & AS & N762AS &  121 & SEA & ANC & 201 & 1448 & 0 & 34\\\\\n",
       "\t6 & 2014 & 1 & 1 & 37 & 82 & 747 &  88 & DL & N806DN & 1823 & SEA & DTW & 224 & 1927 & 0 & 37\\\\\n",
       "\\end{tabular}\n"
      ],
      "text/markdown": [
       "\n",
       "A data.frame: 6 × 16\n",
       "\n",
       "| <!--/--> | year &lt;int&gt; | month &lt;int&gt; | day &lt;int&gt; | dep_time &lt;int&gt; | dep_delay &lt;int&gt; | arr_time &lt;int&gt; | arr_delay &lt;int&gt; | carrier &lt;chr&gt; | tailnum &lt;chr&gt; | flight &lt;int&gt; | origin &lt;chr&gt; | dest &lt;chr&gt; | air_time &lt;int&gt; | distance &lt;int&gt; | hour &lt;int&gt; | minute &lt;int&gt; |\n",
       "|---|---|---|---|---|---|---|---|---|---|---|---|---|---|---|---|---|\n",
       "| 1 | 2014 | 1 | 1 |  1 | 96 | 235 |  70 | AS | N508AS |  145 | PDX | ANC | 194 | 1542 | 0 |  1 |\n",
       "| 2 | 2014 | 1 | 1 |  4 | -6 | 738 | -23 | US | N195UW | 1830 | SEA | CLT | 252 | 2279 | 0 |  4 |\n",
       "| 3 | 2014 | 1 | 1 |  8 | 13 | 548 |  -4 | UA | N37422 | 1609 | PDX | IAH | 201 | 1825 | 0 |  8 |\n",
       "| 4 | 2014 | 1 | 1 | 28 | -2 | 800 | -23 | US | N547UW |  466 | PDX | CLT | 251 | 2282 | 0 | 28 |\n",
       "| 5 | 2014 | 1 | 1 | 34 | 44 | 325 |  43 | AS | N762AS |  121 | SEA | ANC | 201 | 1448 | 0 | 34 |\n",
       "| 6 | 2014 | 1 | 1 | 37 | 82 | 747 |  88 | DL | N806DN | 1823 | SEA | DTW | 224 | 1927 | 0 | 37 |\n",
       "\n"
      ],
      "text/plain": [
       "  year month day dep_time dep_delay arr_time arr_delay carrier tailnum flight\n",
       "1 2014 1     1    1       96        235       70       AS      N508AS   145  \n",
       "2 2014 1     1    4       -6        738      -23       US      N195UW  1830  \n",
       "3 2014 1     1    8       13        548       -4       UA      N37422  1609  \n",
       "4 2014 1     1   28       -2        800      -23       US      N547UW   466  \n",
       "5 2014 1     1   34       44        325       43       AS      N762AS   121  \n",
       "6 2014 1     1   37       82        747       88       DL      N806DN  1823  \n",
       "  origin dest air_time distance hour minute\n",
       "1 PDX    ANC  194      1542     0     1    \n",
       "2 SEA    CLT  252      2279     0     4    \n",
       "3 PDX    IAH  201      1825     0     8    \n",
       "4 PDX    CLT  251      2282     0    28    \n",
       "5 SEA    ANC  201      1448     0    34    \n",
       "6 SEA    DTW  224      1927     0    37    "
      ]
     },
     "metadata": {},
     "output_type": "display_data"
    }
   ],
   "source": [
    "head(data,6)"
   ]
  },
  {
   "cell_type": "markdown",
   "metadata": {},
   "source": [
    "**VISUALIZAMOS LA DIMENSIÓN DEL DATAFRAME**"
   ]
  },
  {
   "cell_type": "code",
   "execution_count": 3,
   "metadata": {
    "ExecuteTime": {
     "end_time": "2021-08-22T00:49:16.282614Z",
     "start_time": "2021-08-22T00:48:59.445Z"
    }
   },
   "outputs": [
    {
     "data": {
      "text/html": [
       "<style>\n",
       ".list-inline {list-style: none; margin:0; padding: 0}\n",
       ".list-inline>li {display: inline-block}\n",
       ".list-inline>li:not(:last-child)::after {content: \"\\00b7\"; padding: 0 .5ex}\n",
       "</style>\n",
       "<ol class=list-inline><li>162049</li><li>16</li></ol>\n"
      ],
      "text/latex": [
       "\\begin{enumerate*}\n",
       "\\item 162049\n",
       "\\item 16\n",
       "\\end{enumerate*}\n"
      ],
      "text/markdown": [
       "1. 162049\n",
       "2. 16\n",
       "\n",
       "\n"
      ],
      "text/plain": [
       "[1] 162049     16"
      ]
     },
     "metadata": {},
     "output_type": "display_data"
    }
   ],
   "source": [
    "dim(data)"
   ]
  },
  {
   "cell_type": "markdown",
   "metadata": {},
   "source": [
    "SE TRATA DE UN DATASET MEDIANAMENTE GRANDE CON 162,049 FILAS Y 16 COLUMNAS"
   ]
  },
  {
   "cell_type": "markdown",
   "metadata": {},
   "source": [
    "VISUALIZAMOS EL AÑO PARA VERIFICAR SI ESTAMOS ANTE UN DATAFRAME CON INFORMACIÓN DE DIFERENTES AÑOS O ÚNICAMENTE DEL 2014. PARA ESTO, HACEMOS USO DE LA INSTRUCCIÓN TABLE CUYO FUNCIONAMIENTO ES SIMILAR A VALUE_COUNTS DE PYTHON, ES DECIR, CUENTA LA CANTIDAD DE OCURRENCIAS DE CADA PALABRA REGRESANDO LOS VALORES ÚNICOS."
   ]
  },
  {
   "cell_type": "code",
   "execution_count": 4,
   "metadata": {
    "ExecuteTime": {
     "end_time": "2021-08-22T00:49:39.568815Z",
     "start_time": "2021-08-22T00:49:30.580Z"
    }
   },
   "outputs": [
    {
     "data": {
      "text/plain": [
       "\n",
       "  2014 \n",
       "162049 "
      ]
     },
     "metadata": {},
     "output_type": "display_data"
    }
   ],
   "source": [
    "table(data$year) # Efectivamente, se trata de un dataset con información del 2014"
   ]
  },
  {
   "cell_type": "markdown",
   "metadata": {},
   "source": [
    "NO OBSTANTE, TRAS UNA BUSQUEDA EXHAUSTIVA EN INTERNET SE LOGRÓ DAR CON EL ORIGEN DEL DATASET QUE EXPLICA DETALLADAMENTE DE QUE SE TRATA ([Origen](https://github.com/ismayc/pnwflights14)), CITANDO:\n",
    "\n",
    "_Contiene información sobre todos los vuelos que partieron de los dos principales aeropuertos del Pacífico Noroeste (PNW), SEA en Seattle y PDX en Portland, en 2014: 162.049 vuelos en total._\n",
    "\n",
    "Entendido el dataset, ahora pasamos a realizar las tareas encomendadas en el classroom."
   ]
  },
  {
   "cell_type": "markdown",
   "metadata": {},
   "source": [
    "**2. Seleccionar aquellas filas cuyo retraso es negativo, y guardarlas en otro data.frame llamado puntuales.df. ¿Cuántas son?**"
   ]
  },
  {
   "cell_type": "code",
   "execution_count": 6,
   "metadata": {
    "ExecuteTime": {
     "end_time": "2021-08-22T00:50:48.603481Z",
     "start_time": "2021-08-22T00:50:48.342Z"
    }
   },
   "outputs": [
    {
     "data": {
      "text/html": [
       "97256"
      ],
      "text/latex": [
       "97256"
      ],
      "text/markdown": [
       "97256"
      ],
      "text/plain": [
       "[1] 97256"
      ]
     },
     "metadata": {},
     "output_type": "display_data"
    }
   ],
   "source": [
    "puntuales.df=data[data$arr_delay<0,]\n",
    "nrow(puntuales.df)"
   ]
  },
  {
   "cell_type": "markdown",
   "metadata": {
    "ExecuteTime": {
     "end_time": "2021-08-18T16:53:48.380812Z",
     "start_time": "2021-08-18T16:53:48.357Z"
    }
   },
   "source": [
    "**3. Sobre el data.frame puntuales.df, calcular el número de ocurrencias de cada combinación (origen, dest). Es decir, el número de vuelos que salen de un origen y llegan a un destino, para todas\n",
    "las posibles combinaciones de aeropuerto de origen y de destino.**"
   ]
  },
  {
   "cell_type": "code",
   "execution_count": 7,
   "metadata": {
    "ExecuteTime": {
     "end_time": "2021-08-22T00:51:24.382339Z",
     "start_time": "2021-08-22T00:50:55.912Z"
    }
   },
   "outputs": [],
   "source": [
    "ocurrencias=as.data.frame(table(puntuales.df$origin,puntuales.df$dest))\n",
    "colnames(ocurrencias)=c(\"Origen\",\"Destino\",\"Frecuencia\")"
   ]
  },
  {
   "cell_type": "code",
   "execution_count": 78,
   "metadata": {
    "ExecuteTime": {
     "end_time": "2021-08-18T17:59:47.733815Z",
     "start_time": "2021-08-18T17:59:28.285Z"
    }
   },
   "outputs": [
    {
     "data": {
      "text/html": [
       "<table class=\"dataframe\">\n",
       "<caption>A data.frame: 7 × 3</caption>\n",
       "<thead>\n",
       "\t<tr><th></th><th scope=col>Origen</th><th scope=col>Destino</th><th scope=col>Frecuencia</th></tr>\n",
       "\t<tr><th></th><th scope=col>&lt;fct&gt;</th><th scope=col>&lt;fct&gt;</th><th scope=col>&lt;int&gt;</th></tr>\n",
       "</thead>\n",
       "<tbody>\n",
       "\t<tr><th scope=row>1</th><td>PDX</td><td>ABQ</td><td> 145</td></tr>\n",
       "\t<tr><th scope=row>2</th><td>SEA</td><td>ABQ</td><td> 339</td></tr>\n",
       "\t<tr><th scope=row>3</th><td>PDX</td><td>ANC</td><td> 728</td></tr>\n",
       "\t<tr><th scope=row>4</th><td>SEA</td><td>ANC</td><td>3728</td></tr>\n",
       "\t<tr><th scope=row>5</th><td>PDX</td><td>ATL</td><td>1118</td></tr>\n",
       "\t<tr><th scope=row>6</th><td>SEA</td><td>ATL</td><td>1575</td></tr>\n",
       "\t<tr><th scope=row>7</th><td>PDX</td><td>AUS</td><td>  50</td></tr>\n",
       "</tbody>\n",
       "</table>\n"
      ],
      "text/latex": [
       "A data.frame: 7 × 3\n",
       "\\begin{tabular}{r|lll}\n",
       "  & Origen & Destino & Frecuencia\\\\\n",
       "  & <fct> & <fct> & <int>\\\\\n",
       "\\hline\n",
       "\t1 & PDX & ABQ &  145\\\\\n",
       "\t2 & SEA & ABQ &  339\\\\\n",
       "\t3 & PDX & ANC &  728\\\\\n",
       "\t4 & SEA & ANC & 3728\\\\\n",
       "\t5 & PDX & ATL & 1118\\\\\n",
       "\t6 & SEA & ATL & 1575\\\\\n",
       "\t7 & PDX & AUS &   50\\\\\n",
       "\\end{tabular}\n"
      ],
      "text/markdown": [
       "\n",
       "A data.frame: 7 × 3\n",
       "\n",
       "| <!--/--> | Origen &lt;fct&gt; | Destino &lt;fct&gt; | Frecuencia &lt;int&gt; |\n",
       "|---|---|---|---|\n",
       "| 1 | PDX | ABQ |  145 |\n",
       "| 2 | SEA | ABQ |  339 |\n",
       "| 3 | PDX | ANC |  728 |\n",
       "| 4 | SEA | ANC | 3728 |\n",
       "| 5 | PDX | ATL | 1118 |\n",
       "| 6 | SEA | ATL | 1575 |\n",
       "| 7 | PDX | AUS |   50 |\n",
       "\n"
      ],
      "text/plain": [
       "  Origen Destino Frecuencia\n",
       "1 PDX    ABQ      145      \n",
       "2 SEA    ABQ      339      \n",
       "3 PDX    ANC      728      \n",
       "4 SEA    ANC     3728      \n",
       "5 PDX    ATL     1118      \n",
       "6 SEA    ATL     1575      \n",
       "7 PDX    AUS       50      "
      ]
     },
     "metadata": {},
     "output_type": "display_data"
    }
   ],
   "source": [
    "head(ocurrencias,7)"
   ]
  },
  {
   "cell_type": "markdown",
   "metadata": {},
   "source": [
    "SON 142 RUTAS DIFERENTES"
   ]
  },
  {
   "cell_type": "code",
   "execution_count": 8,
   "metadata": {
    "ExecuteTime": {
     "end_time": "2021-08-22T00:52:05.663834Z",
     "start_time": "2021-08-22T00:51:06.555Z"
    }
   },
   "outputs": [
    {
     "data": {
      "text/html": [
       "<style>\n",
       ".list-inline {list-style: none; margin:0; padding: 0}\n",
       ".list-inline>li {display: inline-block}\n",
       ".list-inline>li:not(:last-child)::after {content: \"\\00b7\"; padding: 0 .5ex}\n",
       "</style>\n",
       "<ol class=list-inline><li>142</li><li>3</li></ol>\n"
      ],
      "text/latex": [
       "\\begin{enumerate*}\n",
       "\\item 142\n",
       "\\item 3\n",
       "\\end{enumerate*}\n"
      ],
      "text/markdown": [
       "1. 142\n",
       "2. 3\n",
       "\n",
       "\n"
      ],
      "text/plain": [
       "[1] 142   3"
      ]
     },
     "metadata": {},
     "output_type": "display_data"
    }
   ],
   "source": [
    "dim(ocurrencias)"
   ]
  },
  {
   "cell_type": "markdown",
   "metadata": {},
   "source": [
    "71 RUTAS ORIGINARIAS TANTO DE PORTLAND COMO DE SEATTLE"
   ]
  },
  {
   "cell_type": "code",
   "execution_count": 9,
   "metadata": {
    "ExecuteTime": {
     "end_time": "2021-08-22T00:52:44.664735Z",
     "start_time": "2021-08-22T00:51:49.518Z"
    }
   },
   "outputs": [
    {
     "data": {
      "text/html": [
       "<style>\n",
       ".list-inline {list-style: none; margin:0; padding: 0}\n",
       ".list-inline>li {display: inline-block}\n",
       ".list-inline>li:not(:last-child)::after {content: \"\\00b7\"; padding: 0 .5ex}\n",
       "</style>\n",
       "<ol class=list-inline><li>71</li><li>3</li></ol>\n"
      ],
      "text/latex": [
       "\\begin{enumerate*}\n",
       "\\item 71\n",
       "\\item 3\n",
       "\\end{enumerate*}\n"
      ],
      "text/markdown": [
       "1. 71\n",
       "2. 3\n",
       "\n",
       "\n"
      ],
      "text/plain": [
       "[1] 71  3"
      ]
     },
     "metadata": {},
     "output_type": "display_data"
    }
   ],
   "source": [
    "dim(ocurrencias[ocurrencias$Origen==\"PDX\",]) "
   ]
  },
  {
   "cell_type": "code",
   "execution_count": 10,
   "metadata": {
    "ExecuteTime": {
     "end_time": "2021-08-22T00:53:20.800345Z",
     "start_time": "2021-08-22T00:53:20.755Z"
    }
   },
   "outputs": [
    {
     "data": {
      "text/html": [
       "<style>\n",
       ".list-inline {list-style: none; margin:0; padding: 0}\n",
       ".list-inline>li {display: inline-block}\n",
       ".list-inline>li:not(:last-child)::after {content: \"\\00b7\"; padding: 0 .5ex}\n",
       "</style>\n",
       "<ol class=list-inline><li>71</li><li>3</li></ol>\n"
      ],
      "text/latex": [
       "\\begin{enumerate*}\n",
       "\\item 71\n",
       "\\item 3\n",
       "\\end{enumerate*}\n"
      ],
      "text/markdown": [
       "1. 71\n",
       "2. 3\n",
       "\n",
       "\n"
      ],
      "text/plain": [
       "[1] 71  3"
      ]
     },
     "metadata": {},
     "output_type": "display_data"
    }
   ],
   "source": [
    "dim(ocurrencias[ocurrencias$Origen==\"SEA\",]) "
   ]
  },
  {
   "cell_type": "markdown",
   "metadata": {},
   "source": [
    "EN ESTE SENTIDO, PODEMOS VISUALIZAR LA RUTA MÁS CONCURRIDA PARA CADA AEROPUERTO"
   ]
  },
  {
   "cell_type": "code",
   "execution_count": 11,
   "metadata": {
    "ExecuteTime": {
     "end_time": "2021-08-22T00:53:55.396403Z",
     "start_time": "2021-08-22T00:53:27.912Z"
    }
   },
   "outputs": [
    {
     "data": {
      "text/html": [
       "<table class=\"dataframe\">\n",
       "<caption>A data.frame: 1 × 3</caption>\n",
       "<thead>\n",
       "\t<tr><th></th><th scope=col>Origen</th><th scope=col>Destino</th><th scope=col>Frecuencia</th></tr>\n",
       "\t<tr><th></th><th scope=col>&lt;fct&gt;</th><th scope=col>&lt;fct&gt;</th><th scope=col>&lt;int&gt;</th></tr>\n",
       "</thead>\n",
       "<tbody>\n",
       "\t<tr><th scope=row>125</th><td>PDX</td><td>SFO</td><td>3117</td></tr>\n",
       "</tbody>\n",
       "</table>\n"
      ],
      "text/latex": [
       "A data.frame: 1 × 3\n",
       "\\begin{tabular}{r|lll}\n",
       "  & Origen & Destino & Frecuencia\\\\\n",
       "  & <fct> & <fct> & <int>\\\\\n",
       "\\hline\n",
       "\t125 & PDX & SFO & 3117\\\\\n",
       "\\end{tabular}\n"
      ],
      "text/markdown": [
       "\n",
       "A data.frame: 1 × 3\n",
       "\n",
       "| <!--/--> | Origen &lt;fct&gt; | Destino &lt;fct&gt; | Frecuencia &lt;int&gt; |\n",
       "|---|---|---|---|\n",
       "| 125 | PDX | SFO | 3117 |\n",
       "\n"
      ],
      "text/plain": [
       "    Origen Destino Frecuencia\n",
       "125 PDX    SFO     3117      "
      ]
     },
     "metadata": {},
     "output_type": "display_data"
    }
   ],
   "source": [
    "ocurrencias[ocurrencias$Frecuencia==max(ocurrencias$Frecuencia[ocurrencias$Origen==\"PDX\"]),]"
   ]
  },
  {
   "cell_type": "markdown",
   "metadata": {},
   "source": [
    "El vuelo más transitado con origen en Portland tuvo como destino San Fransisco."
   ]
  },
  {
   "cell_type": "code",
   "execution_count": 83,
   "metadata": {
    "ExecuteTime": {
     "end_time": "2021-08-18T18:02:58.527597Z",
     "start_time": "2021-08-18T18:02:40.954Z"
    }
   },
   "outputs": [
    {
     "data": {
      "text/html": [
       "<table class=\"dataframe\">\n",
       "<caption>A data.frame: 1 × 3</caption>\n",
       "<thead>\n",
       "\t<tr><th></th><th scope=col>Origen</th><th scope=col>Destino</th><th scope=col>Frecuencia</th></tr>\n",
       "\t<tr><th></th><th scope=col>&lt;fct&gt;</th><th scope=col>&lt;fct&gt;</th><th scope=col>&lt;int&gt;</th></tr>\n",
       "</thead>\n",
       "<tbody>\n",
       "\t<tr><th scope=row>126</th><td>SEA</td><td>SFO</td><td>4343</td></tr>\n",
       "</tbody>\n",
       "</table>\n"
      ],
      "text/latex": [
       "A data.frame: 1 × 3\n",
       "\\begin{tabular}{r|lll}\n",
       "  & Origen & Destino & Frecuencia\\\\\n",
       "  & <fct> & <fct> & <int>\\\\\n",
       "\\hline\n",
       "\t126 & SEA & SFO & 4343\\\\\n",
       "\\end{tabular}\n"
      ],
      "text/markdown": [
       "\n",
       "A data.frame: 1 × 3\n",
       "\n",
       "| <!--/--> | Origen &lt;fct&gt; | Destino &lt;fct&gt; | Frecuencia &lt;int&gt; |\n",
       "|---|---|---|---|\n",
       "| 126 | SEA | SFO | 4343 |\n",
       "\n"
      ],
      "text/plain": [
       "    Origen Destino Frecuencia\n",
       "126 SEA    SFO     4343      "
      ]
     },
     "metadata": {},
     "output_type": "display_data"
    }
   ],
   "source": [
    "ocurrencias[ocurrencias$Frecuencia==max(ocurrencias$Frecuencia[ocurrencias$Origen==\"SEA\"]),]"
   ]
  },
  {
   "cell_type": "markdown",
   "metadata": {
    "ExecuteTime": {
     "end_time": "2021-08-18T17:42:10.399857Z",
     "start_time": "2021-08-18T17:42:10.377Z"
    }
   },
   "source": [
    "De manera similar a Portland, el vuelo más transitado con origen en Seattle tuvo como destino San Fransisco. Siendo este vuelo el más transitado de todos."
   ]
  },
  {
   "cell_type": "markdown",
   "metadata": {},
   "source": [
    "**4. Reemplazar en el data.frame puntuales.df la columna month por una nueva, de tipo factor, en la cual los meses del año estén expresados como texto y no como número. Sugerencia: crear un vector constante de 12 elementos con los 12 meses del año como cadenas de caracteres, y usar la columna month para indexar sobre él. No deben usarse bucles bajo ningún concepto.**"
   ]
  },
  {
   "cell_type": "code",
   "execution_count": 12,
   "metadata": {
    "ExecuteTime": {
     "end_time": "2021-08-22T00:54:31.653894Z",
     "start_time": "2021-08-22T00:54:10.004Z"
    }
   },
   "outputs": [],
   "source": [
    "meses=c(\"Enero\",\"Febrero\",\"Marzo\",\"Abril\",\"Mayo\",\"Junio\",\"Julio\",\"Agosto\",\"Septiembre\",\"Octubre\"\n",
    "    ,\"Noviembre\",\"Diciembre\") #creamos un vector con los meses"
   ]
  },
  {
   "cell_type": "code",
   "execution_count": 13,
   "metadata": {
    "ExecuteTime": {
     "end_time": "2021-08-22T00:55:09.498662Z",
     "start_time": "2021-08-22T00:54:49.978Z"
    }
   },
   "outputs": [],
   "source": [
    "puntuales.df$MonthAbb=meses[puntuales.df$month]#asignamos a cada valor numerico el valor correspondiente a su mes"
   ]
  },
  {
   "cell_type": "code",
   "execution_count": 14,
   "metadata": {
    "ExecuteTime": {
     "end_time": "2021-08-22T00:55:46.025573Z",
     "start_time": "2021-08-22T00:55:33.404Z"
    }
   },
   "outputs": [
    {
     "data": {
      "text/html": [
       "<table class=\"dataframe\">\n",
       "<caption>A data.frame: 6 × 17</caption>\n",
       "<thead>\n",
       "\t<tr><th></th><th scope=col>year</th><th scope=col>month</th><th scope=col>day</th><th scope=col>dep_time</th><th scope=col>dep_delay</th><th scope=col>arr_time</th><th scope=col>arr_delay</th><th scope=col>carrier</th><th scope=col>tailnum</th><th scope=col>flight</th><th scope=col>origin</th><th scope=col>dest</th><th scope=col>air_time</th><th scope=col>distance</th><th scope=col>hour</th><th scope=col>minute</th><th scope=col>MonthAbb</th></tr>\n",
       "\t<tr><th></th><th scope=col>&lt;int&gt;</th><th scope=col>&lt;int&gt;</th><th scope=col>&lt;int&gt;</th><th scope=col>&lt;int&gt;</th><th scope=col>&lt;int&gt;</th><th scope=col>&lt;int&gt;</th><th scope=col>&lt;int&gt;</th><th scope=col>&lt;chr&gt;</th><th scope=col>&lt;chr&gt;</th><th scope=col>&lt;int&gt;</th><th scope=col>&lt;chr&gt;</th><th scope=col>&lt;chr&gt;</th><th scope=col>&lt;int&gt;</th><th scope=col>&lt;int&gt;</th><th scope=col>&lt;int&gt;</th><th scope=col>&lt;int&gt;</th><th scope=col>&lt;chr&gt;</th></tr>\n",
       "</thead>\n",
       "<tbody>\n",
       "\t<tr><th scope=row>2</th><td>2014</td><td>1</td><td>1</td><td>  4</td><td>-6</td><td> 738</td><td>-23</td><td>US</td><td>N195UW</td><td>1830</td><td>SEA</td><td>CLT</td><td>252</td><td>2279</td><td>0</td><td> 4</td><td>Enero</td></tr>\n",
       "\t<tr><th scope=row>3</th><td>2014</td><td>1</td><td>1</td><td>  8</td><td>13</td><td> 548</td><td> -4</td><td>UA</td><td>N37422</td><td>1609</td><td>PDX</td><td>IAH</td><td>201</td><td>1825</td><td>0</td><td> 8</td><td>Enero</td></tr>\n",
       "\t<tr><th scope=row>4</th><td>2014</td><td>1</td><td>1</td><td> 28</td><td>-2</td><td> 800</td><td>-23</td><td>US</td><td>N547UW</td><td> 466</td><td>PDX</td><td>CLT</td><td>251</td><td>2282</td><td>0</td><td>28</td><td>Enero</td></tr>\n",
       "\t<tr><th scope=row>10</th><td>2014</td><td>1</td><td>1</td><td>536</td><td> 1</td><td>1334</td><td> -6</td><td>UA</td><td>N574UA</td><td> 478</td><td>SEA</td><td>EWR</td><td>268</td><td>2402</td><td>5</td><td>36</td><td>Enero</td></tr>\n",
       "\t<tr><th scope=row>13</th><td>2014</td><td>1</td><td>1</td><td>550</td><td> 0</td><td> 837</td><td>-12</td><td>DL</td><td>N660DL</td><td>1634</td><td>SEA</td><td>SLC</td><td> 82</td><td> 689</td><td>5</td><td>50</td><td>Enero</td></tr>\n",
       "\t<tr><th scope=row>14</th><td>2014</td><td>1</td><td>1</td><td>557</td><td>-3</td><td>1134</td><td>-16</td><td>AA</td><td>N3JLAA</td><td>1094</td><td>SEA</td><td>DFW</td><td>184</td><td>1660</td><td>5</td><td>57</td><td>Enero</td></tr>\n",
       "</tbody>\n",
       "</table>\n"
      ],
      "text/latex": [
       "A data.frame: 6 × 17\n",
       "\\begin{tabular}{r|lllllllllllllllll}\n",
       "  & year & month & day & dep\\_time & dep\\_delay & arr\\_time & arr\\_delay & carrier & tailnum & flight & origin & dest & air\\_time & distance & hour & minute & MonthAbb\\\\\n",
       "  & <int> & <int> & <int> & <int> & <int> & <int> & <int> & <chr> & <chr> & <int> & <chr> & <chr> & <int> & <int> & <int> & <int> & <chr>\\\\\n",
       "\\hline\n",
       "\t2 & 2014 & 1 & 1 &   4 & -6 &  738 & -23 & US & N195UW & 1830 & SEA & CLT & 252 & 2279 & 0 &  4 & Enero\\\\\n",
       "\t3 & 2014 & 1 & 1 &   8 & 13 &  548 &  -4 & UA & N37422 & 1609 & PDX & IAH & 201 & 1825 & 0 &  8 & Enero\\\\\n",
       "\t4 & 2014 & 1 & 1 &  28 & -2 &  800 & -23 & US & N547UW &  466 & PDX & CLT & 251 & 2282 & 0 & 28 & Enero\\\\\n",
       "\t10 & 2014 & 1 & 1 & 536 &  1 & 1334 &  -6 & UA & N574UA &  478 & SEA & EWR & 268 & 2402 & 5 & 36 & Enero\\\\\n",
       "\t13 & 2014 & 1 & 1 & 550 &  0 &  837 & -12 & DL & N660DL & 1634 & SEA & SLC &  82 &  689 & 5 & 50 & Enero\\\\\n",
       "\t14 & 2014 & 1 & 1 & 557 & -3 & 1134 & -16 & AA & N3JLAA & 1094 & SEA & DFW & 184 & 1660 & 5 & 57 & Enero\\\\\n",
       "\\end{tabular}\n"
      ],
      "text/markdown": [
       "\n",
       "A data.frame: 6 × 17\n",
       "\n",
       "| <!--/--> | year &lt;int&gt; | month &lt;int&gt; | day &lt;int&gt; | dep_time &lt;int&gt; | dep_delay &lt;int&gt; | arr_time &lt;int&gt; | arr_delay &lt;int&gt; | carrier &lt;chr&gt; | tailnum &lt;chr&gt; | flight &lt;int&gt; | origin &lt;chr&gt; | dest &lt;chr&gt; | air_time &lt;int&gt; | distance &lt;int&gt; | hour &lt;int&gt; | minute &lt;int&gt; | MonthAbb &lt;chr&gt; |\n",
       "|---|---|---|---|---|---|---|---|---|---|---|---|---|---|---|---|---|---|\n",
       "| 2 | 2014 | 1 | 1 |   4 | -6 |  738 | -23 | US | N195UW | 1830 | SEA | CLT | 252 | 2279 | 0 |  4 | Enero |\n",
       "| 3 | 2014 | 1 | 1 |   8 | 13 |  548 |  -4 | UA | N37422 | 1609 | PDX | IAH | 201 | 1825 | 0 |  8 | Enero |\n",
       "| 4 | 2014 | 1 | 1 |  28 | -2 |  800 | -23 | US | N547UW |  466 | PDX | CLT | 251 | 2282 | 0 | 28 | Enero |\n",
       "| 10 | 2014 | 1 | 1 | 536 |  1 | 1334 |  -6 | UA | N574UA |  478 | SEA | EWR | 268 | 2402 | 5 | 36 | Enero |\n",
       "| 13 | 2014 | 1 | 1 | 550 |  0 |  837 | -12 | DL | N660DL | 1634 | SEA | SLC |  82 |  689 | 5 | 50 | Enero |\n",
       "| 14 | 2014 | 1 | 1 | 557 | -3 | 1134 | -16 | AA | N3JLAA | 1094 | SEA | DFW | 184 | 1660 | 5 | 57 | Enero |\n",
       "\n"
      ],
      "text/plain": [
       "   year month day dep_time dep_delay arr_time arr_delay carrier tailnum flight\n",
       "2  2014 1     1     4      -6         738     -23       US      N195UW  1830  \n",
       "3  2014 1     1     8      13         548      -4       UA      N37422  1609  \n",
       "4  2014 1     1    28      -2         800     -23       US      N547UW   466  \n",
       "10 2014 1     1   536       1        1334      -6       UA      N574UA   478  \n",
       "13 2014 1     1   550       0         837     -12       DL      N660DL  1634  \n",
       "14 2014 1     1   557      -3        1134     -16       AA      N3JLAA  1094  \n",
       "   origin dest air_time distance hour minute MonthAbb\n",
       "2  SEA    CLT  252      2279     0     4     Enero   \n",
       "3  PDX    IAH  201      1825     0     8     Enero   \n",
       "4  PDX    CLT  251      2282     0    28     Enero   \n",
       "10 SEA    EWR  268      2402     5    36     Enero   \n",
       "13 SEA    SLC   82       689     5    50     Enero   \n",
       "14 SEA    DFW  184      1660     5    57     Enero   "
      ]
     },
     "metadata": {},
     "output_type": "display_data"
    }
   ],
   "source": [
    "head(puntuales.df)"
   ]
  },
  {
   "cell_type": "code",
   "execution_count": 15,
   "metadata": {
    "ExecuteTime": {
     "end_time": "2021-08-22T00:57:08.091738Z",
     "start_time": "2021-08-22T00:57:08.040Z"
    }
   },
   "outputs": [],
   "source": [
    "puntuales.df$month=NULL #eliminamos la columna month"
   ]
  },
  {
   "cell_type": "code",
   "execution_count": 16,
   "metadata": {
    "ExecuteTime": {
     "end_time": "2021-08-22T00:57:50.423763Z",
     "start_time": "2021-08-22T00:57:10.331Z"
    }
   },
   "outputs": [],
   "source": [
    "colnames(puntuales.df)[16]=\"month\" #cambiamos el nombre de la columna\n",
    "puntuales.df=puntuales.df[,c(1,16,2:15)] #regresamos al orden inicial"
   ]
  },
  {
   "cell_type": "code",
   "execution_count": 17,
   "metadata": {
    "ExecuteTime": {
     "end_time": "2021-08-22T00:58:34.520554Z",
     "start_time": "2021-08-22T00:57:24.962Z"
    },
    "scrolled": true
   },
   "outputs": [
    {
     "data": {
      "text/html": [
       "<table class=\"dataframe\">\n",
       "<caption>A data.frame: 6 × 16</caption>\n",
       "<thead>\n",
       "\t<tr><th></th><th scope=col>year</th><th scope=col>month</th><th scope=col>day</th><th scope=col>dep_time</th><th scope=col>dep_delay</th><th scope=col>arr_time</th><th scope=col>arr_delay</th><th scope=col>carrier</th><th scope=col>tailnum</th><th scope=col>flight</th><th scope=col>origin</th><th scope=col>dest</th><th scope=col>air_time</th><th scope=col>distance</th><th scope=col>hour</th><th scope=col>minute</th></tr>\n",
       "\t<tr><th></th><th scope=col>&lt;int&gt;</th><th scope=col>&lt;chr&gt;</th><th scope=col>&lt;int&gt;</th><th scope=col>&lt;int&gt;</th><th scope=col>&lt;int&gt;</th><th scope=col>&lt;int&gt;</th><th scope=col>&lt;int&gt;</th><th scope=col>&lt;chr&gt;</th><th scope=col>&lt;chr&gt;</th><th scope=col>&lt;int&gt;</th><th scope=col>&lt;chr&gt;</th><th scope=col>&lt;chr&gt;</th><th scope=col>&lt;int&gt;</th><th scope=col>&lt;int&gt;</th><th scope=col>&lt;int&gt;</th><th scope=col>&lt;int&gt;</th></tr>\n",
       "</thead>\n",
       "<tbody>\n",
       "\t<tr><th scope=row>2</th><td>2014</td><td>Enero</td><td>1</td><td>  4</td><td>-6</td><td> 738</td><td>-23</td><td>US</td><td>N195UW</td><td>1830</td><td>SEA</td><td>CLT</td><td>252</td><td>2279</td><td>0</td><td> 4</td></tr>\n",
       "\t<tr><th scope=row>3</th><td>2014</td><td>Enero</td><td>1</td><td>  8</td><td>13</td><td> 548</td><td> -4</td><td>UA</td><td>N37422</td><td>1609</td><td>PDX</td><td>IAH</td><td>201</td><td>1825</td><td>0</td><td> 8</td></tr>\n",
       "\t<tr><th scope=row>4</th><td>2014</td><td>Enero</td><td>1</td><td> 28</td><td>-2</td><td> 800</td><td>-23</td><td>US</td><td>N547UW</td><td> 466</td><td>PDX</td><td>CLT</td><td>251</td><td>2282</td><td>0</td><td>28</td></tr>\n",
       "\t<tr><th scope=row>10</th><td>2014</td><td>Enero</td><td>1</td><td>536</td><td> 1</td><td>1334</td><td> -6</td><td>UA</td><td>N574UA</td><td> 478</td><td>SEA</td><td>EWR</td><td>268</td><td>2402</td><td>5</td><td>36</td></tr>\n",
       "\t<tr><th scope=row>13</th><td>2014</td><td>Enero</td><td>1</td><td>550</td><td> 0</td><td> 837</td><td>-12</td><td>DL</td><td>N660DL</td><td>1634</td><td>SEA</td><td>SLC</td><td> 82</td><td> 689</td><td>5</td><td>50</td></tr>\n",
       "\t<tr><th scope=row>14</th><td>2014</td><td>Enero</td><td>1</td><td>557</td><td>-3</td><td>1134</td><td>-16</td><td>AA</td><td>N3JLAA</td><td>1094</td><td>SEA</td><td>DFW</td><td>184</td><td>1660</td><td>5</td><td>57</td></tr>\n",
       "</tbody>\n",
       "</table>\n"
      ],
      "text/latex": [
       "A data.frame: 6 × 16\n",
       "\\begin{tabular}{r|llllllllllllllll}\n",
       "  & year & month & day & dep\\_time & dep\\_delay & arr\\_time & arr\\_delay & carrier & tailnum & flight & origin & dest & air\\_time & distance & hour & minute\\\\\n",
       "  & <int> & <chr> & <int> & <int> & <int> & <int> & <int> & <chr> & <chr> & <int> & <chr> & <chr> & <int> & <int> & <int> & <int>\\\\\n",
       "\\hline\n",
       "\t2 & 2014 & Enero & 1 &   4 & -6 &  738 & -23 & US & N195UW & 1830 & SEA & CLT & 252 & 2279 & 0 &  4\\\\\n",
       "\t3 & 2014 & Enero & 1 &   8 & 13 &  548 &  -4 & UA & N37422 & 1609 & PDX & IAH & 201 & 1825 & 0 &  8\\\\\n",
       "\t4 & 2014 & Enero & 1 &  28 & -2 &  800 & -23 & US & N547UW &  466 & PDX & CLT & 251 & 2282 & 0 & 28\\\\\n",
       "\t10 & 2014 & Enero & 1 & 536 &  1 & 1334 &  -6 & UA & N574UA &  478 & SEA & EWR & 268 & 2402 & 5 & 36\\\\\n",
       "\t13 & 2014 & Enero & 1 & 550 &  0 &  837 & -12 & DL & N660DL & 1634 & SEA & SLC &  82 &  689 & 5 & 50\\\\\n",
       "\t14 & 2014 & Enero & 1 & 557 & -3 & 1134 & -16 & AA & N3JLAA & 1094 & SEA & DFW & 184 & 1660 & 5 & 57\\\\\n",
       "\\end{tabular}\n"
      ],
      "text/markdown": [
       "\n",
       "A data.frame: 6 × 16\n",
       "\n",
       "| <!--/--> | year &lt;int&gt; | month &lt;chr&gt; | day &lt;int&gt; | dep_time &lt;int&gt; | dep_delay &lt;int&gt; | arr_time &lt;int&gt; | arr_delay &lt;int&gt; | carrier &lt;chr&gt; | tailnum &lt;chr&gt; | flight &lt;int&gt; | origin &lt;chr&gt; | dest &lt;chr&gt; | air_time &lt;int&gt; | distance &lt;int&gt; | hour &lt;int&gt; | minute &lt;int&gt; |\n",
       "|---|---|---|---|---|---|---|---|---|---|---|---|---|---|---|---|---|\n",
       "| 2 | 2014 | Enero | 1 |   4 | -6 |  738 | -23 | US | N195UW | 1830 | SEA | CLT | 252 | 2279 | 0 |  4 |\n",
       "| 3 | 2014 | Enero | 1 |   8 | 13 |  548 |  -4 | UA | N37422 | 1609 | PDX | IAH | 201 | 1825 | 0 |  8 |\n",
       "| 4 | 2014 | Enero | 1 |  28 | -2 |  800 | -23 | US | N547UW |  466 | PDX | CLT | 251 | 2282 | 0 | 28 |\n",
       "| 10 | 2014 | Enero | 1 | 536 |  1 | 1334 |  -6 | UA | N574UA |  478 | SEA | EWR | 268 | 2402 | 5 | 36 |\n",
       "| 13 | 2014 | Enero | 1 | 550 |  0 |  837 | -12 | DL | N660DL | 1634 | SEA | SLC |  82 |  689 | 5 | 50 |\n",
       "| 14 | 2014 | Enero | 1 | 557 | -3 | 1134 | -16 | AA | N3JLAA | 1094 | SEA | DFW | 184 | 1660 | 5 | 57 |\n",
       "\n"
      ],
      "text/plain": [
       "   year month day dep_time dep_delay arr_time arr_delay carrier tailnum flight\n",
       "2  2014 Enero 1     4      -6         738     -23       US      N195UW  1830  \n",
       "3  2014 Enero 1     8      13         548      -4       UA      N37422  1609  \n",
       "4  2014 Enero 1    28      -2         800     -23       US      N547UW   466  \n",
       "10 2014 Enero 1   536       1        1334      -6       UA      N574UA   478  \n",
       "13 2014 Enero 1   550       0         837     -12       DL      N660DL  1634  \n",
       "14 2014 Enero 1   557      -3        1134     -16       AA      N3JLAA  1094  \n",
       "   origin dest air_time distance hour minute\n",
       "2  SEA    CLT  252      2279     0     4    \n",
       "3  PDX    IAH  201      1825     0     8    \n",
       "4  PDX    CLT  251      2282     0    28    \n",
       "10 SEA    EWR  268      2402     5    36    \n",
       "13 SEA    SLC   82       689     5    50    \n",
       "14 SEA    DFW  184      1660     5    57    "
      ]
     },
     "metadata": {},
     "output_type": "display_data"
    }
   ],
   "source": [
    "head(puntuales.df)"
   ]
  },
  {
   "cell_type": "markdown",
   "metadata": {},
   "source": [
    "\n",
    "**5. Extraer a un nuevo data.frame las columnas year, month y day del data.frame original (completo, no puntuales.df).**"
   ]
  },
  {
   "cell_type": "code",
   "execution_count": 18,
   "metadata": {
    "ExecuteTime": {
     "end_time": "2021-08-22T01:00:44.302289Z",
     "start_time": "2021-08-22T01:00:44.246Z"
    }
   },
   "outputs": [
    {
     "data": {
      "text/html": [
       "<table class=\"dataframe\">\n",
       "<caption>A data.frame: 6 × 3</caption>\n",
       "<thead>\n",
       "\t<tr><th></th><th scope=col>year</th><th scope=col>month</th><th scope=col>day</th></tr>\n",
       "\t<tr><th></th><th scope=col>&lt;int&gt;</th><th scope=col>&lt;int&gt;</th><th scope=col>&lt;int&gt;</th></tr>\n",
       "</thead>\n",
       "<tbody>\n",
       "\t<tr><th scope=row>1</th><td>2014</td><td>1</td><td>1</td></tr>\n",
       "\t<tr><th scope=row>2</th><td>2014</td><td>1</td><td>1</td></tr>\n",
       "\t<tr><th scope=row>3</th><td>2014</td><td>1</td><td>1</td></tr>\n",
       "\t<tr><th scope=row>4</th><td>2014</td><td>1</td><td>1</td></tr>\n",
       "\t<tr><th scope=row>5</th><td>2014</td><td>1</td><td>1</td></tr>\n",
       "\t<tr><th scope=row>6</th><td>2014</td><td>1</td><td>1</td></tr>\n",
       "</tbody>\n",
       "</table>\n"
      ],
      "text/latex": [
       "A data.frame: 6 × 3\n",
       "\\begin{tabular}{r|lll}\n",
       "  & year & month & day\\\\\n",
       "  & <int> & <int> & <int>\\\\\n",
       "\\hline\n",
       "\t1 & 2014 & 1 & 1\\\\\n",
       "\t2 & 2014 & 1 & 1\\\\\n",
       "\t3 & 2014 & 1 & 1\\\\\n",
       "\t4 & 2014 & 1 & 1\\\\\n",
       "\t5 & 2014 & 1 & 1\\\\\n",
       "\t6 & 2014 & 1 & 1\\\\\n",
       "\\end{tabular}\n"
      ],
      "text/markdown": [
       "\n",
       "A data.frame: 6 × 3\n",
       "\n",
       "| <!--/--> | year &lt;int&gt; | month &lt;int&gt; | day &lt;int&gt; |\n",
       "|---|---|---|---|\n",
       "| 1 | 2014 | 1 | 1 |\n",
       "| 2 | 2014 | 1 | 1 |\n",
       "| 3 | 2014 | 1 | 1 |\n",
       "| 4 | 2014 | 1 | 1 |\n",
       "| 5 | 2014 | 1 | 1 |\n",
       "| 6 | 2014 | 1 | 1 |\n",
       "\n"
      ],
      "text/plain": [
       "  year month day\n",
       "1 2014 1     1  \n",
       "2 2014 1     1  \n",
       "3 2014 1     1  \n",
       "4 2014 1     1  \n",
       "5 2014 1     1  \n",
       "6 2014 1     1  "
      ]
     },
     "metadata": {},
     "output_type": "display_data"
    }
   ],
   "source": [
    "fecha=data[,c(1:3)]\n",
    "head(fecha)"
   ]
  },
  {
   "cell_type": "markdown",
   "metadata": {},
   "source": [
    "**6. Escribir una función en R capaz de recibir un data.frame de tres columnas year, month, day (como números enteros) y calcular, para cada fila, el día de la semana correspondiente a esa fecha. La función que se pide debe tener exactamente esta forma:** \n",
    "\n",
    "\n",
    "**diaSemanaDesdeDF\n",
    "<- function(df) {\n",
    "apply(df,\n",
    "MARGIN = 1, FUN = diaSemanaDesdeFila)\n",
    "}**\n",
    "\n",
    "**diaSemanaDesdeFila\n",
    "<- function(fila){\n",
    "       … # procesar la fila, que es un vector de\n",
    "3 elementos\n",
    "               # Devolver un string “L”, “M”,\n",
    "“X”, “J”, “V”, “S” o “D”\n",
    "}**\n",
    "\n"
   ]
  },
  {
   "cell_type": "markdown",
   "metadata": {},
   "source": [
    "**7. La función debe utilizar por dentro la función apply con MARGIN = 1 aplicada al data.frame de entrada de la función. La función interna con la que se llamará a apply debe ser otra función llamada diaSemanaDesdeFila que recibe como argumento un vector de tres elementos [año, mes, dia] y calcula el día de la semana de esa fecha.**"
   ]
  },
  {
   "cell_type": "code",
   "execution_count": 19,
   "metadata": {
    "ExecuteTime": {
     "end_time": "2021-08-22T01:01:22.845261Z",
     "start_time": "2021-08-22T01:00:52.680Z"
    }
   },
   "outputs": [],
   "source": [
    "diaSemanaDesdeFila=function(fila){\n",
    "    cal=as.integer(substr(fila[1],3,4)) #extraemos la cifra decimal\n",
    "    div=as.integer(cal/4)+cal\n",
    "    code_year=div%%7 #codigo del año\n",
    "    if(fila[2]==1 | fila[2]==10){code_month=0}\n",
    "    else if(fila[2]==2 | fila[2]==3 | fila[2]==11){code_month=3} #else if es similar a elif en python\n",
    "    else if(fila[2]==4 | fila[2]==7){code_month=6} #aquí obtenemos el código del mes\n",
    "    else if(fila[2]==5){code_month=1}\n",
    "    else if(fila[2]==6){code_month=4}\n",
    "    else if(fila[2]==8){code_month=2}  \n",
    "    else if(fila[2]==9 | fila[2]==12){code_month=5}   \n",
    "    \n",
    "    if(fila[1]>=1700 & fila[1]<=1799){code_century=4} #código del siglo\n",
    "    else if(fila[1]>=1800 & fila[1]<=1899){code_century=2}\n",
    "    else if(fila[1]>=1900 & fila[1]<=1999){code_century=0}\n",
    "    else if(fila[1]>=2000 & fila[1]<=2099){code_century=6}\n",
    "    else if(fila[1]>=2100 & fila[1]<=2199){code_century=4}\n",
    "    else if(fila[1]>=2200 & fila[1]<=2299){code_century=2}\n",
    "    else if(fila[1]>=2300 & fila[1]<=2399){code_century=0}\n",
    "        \n",
    "    if((fila[1] %% 4)==0){ #verificamos que sea año bisiesto\n",
    "        if((fila[1] %% 100)==0){\n",
    "            if((fila[1] %% 400)==0){\n",
    "                leap_year=1} \n",
    "                    else {leap_year=0}\n",
    "                        } else {leap_year=1}\n",
    "                                            } else {leap_year=0} \n",
    "    date_number=fila[3]\n",
    "    resultado=(code_year+code_month+code_century+date_number-leap_year)%%7\n",
    "    if(resultado==0){return(\"D\")} #obtenemos el día que corresponde la fecha dada con la técnica expuesta \n",
    "    else if(resultado==1){return(\"L\")} #en el link\n",
    "    else if(resultado==2){return(\"M\")}\n",
    "    else if(resultado==3){return(\"X\")}\n",
    "    else if(resultado==4){return(\"J\")}\n",
    "    else if(resultado==5){return(\"V\")}\n",
    "    else if(resultado==6){return(\"S\")}\n",
    "}"
   ]
  },
  {
   "cell_type": "markdown",
   "metadata": {},
   "source": [
    "Probamos la funcion anterior"
   ]
  },
  {
   "cell_type": "code",
   "execution_count": 20,
   "metadata": {
    "ExecuteTime": {
     "end_time": "2021-08-22T01:04:06.893266Z",
     "start_time": "2021-08-22T01:04:06.716Z"
    }
   },
   "outputs": [
    {
     "data": {
      "text/html": [
       "'X'"
      ],
      "text/latex": [
       "'X'"
      ],
      "text/markdown": [
       "'X'"
      ],
      "text/plain": [
       "[1] \"X\""
      ]
     },
     "metadata": {},
     "output_type": "display_data"
    }
   ],
   "source": [
    "(diaSemanaDesdeFila(c(2021,8,18))) "
   ]
  },
  {
   "cell_type": "code",
   "execution_count": 21,
   "metadata": {
    "ExecuteTime": {
     "end_time": "2021-08-22T01:04:45.527299Z",
     "start_time": "2021-08-22T01:04:09.456Z"
    }
   },
   "outputs": [],
   "source": [
    "diaSemanaDesdeDF=function(data){return(apply(data,MARGIN=1,FUN=diaSemanaDesdeFila))}"
   ]
  },
  {
   "cell_type": "markdown",
   "metadata": {},
   "source": [
    "**8.  Usar la función diaSemanaDesdeDF para crear una nueva columna,de tipo factor,  y añadirla al data.frame original de vuelos, llamada “diaSemana”.**"
   ]
  },
  {
   "cell_type": "code",
   "execution_count": 22,
   "metadata": {
    "ExecuteTime": {
     "end_time": "2021-08-22T01:05:32.649224Z",
     "start_time": "2021-08-22T01:05:13.051Z"
    }
   },
   "outputs": [],
   "source": [
    "#data$diaSemana=as.factor(diaSemanaDesdeDF(fecha)) ¿?"
   ]
  },
  {
   "cell_type": "code",
   "execution_count": 23,
   "metadata": {
    "ExecuteTime": {
     "end_time": "2021-08-22T01:09:06.971035Z",
     "start_time": "2021-08-22T01:09:06.758Z"
    }
   },
   "outputs": [
    {
     "data": {
      "text/html": [
       "<table class=\"dataframe\">\n",
       "<caption>A data.frame: 6 × 17</caption>\n",
       "<thead>\n",
       "\t<tr><th></th><th scope=col>year</th><th scope=col>month</th><th scope=col>day</th><th scope=col>dep_time</th><th scope=col>dep_delay</th><th scope=col>arr_time</th><th scope=col>arr_delay</th><th scope=col>carrier</th><th scope=col>tailnum</th><th scope=col>flight</th><th scope=col>origin</th><th scope=col>dest</th><th scope=col>air_time</th><th scope=col>distance</th><th scope=col>hour</th><th scope=col>minute</th><th scope=col>diaSemana</th></tr>\n",
       "\t<tr><th></th><th scope=col>&lt;int&gt;</th><th scope=col>&lt;int&gt;</th><th scope=col>&lt;int&gt;</th><th scope=col>&lt;int&gt;</th><th scope=col>&lt;int&gt;</th><th scope=col>&lt;int&gt;</th><th scope=col>&lt;int&gt;</th><th scope=col>&lt;chr&gt;</th><th scope=col>&lt;chr&gt;</th><th scope=col>&lt;int&gt;</th><th scope=col>&lt;chr&gt;</th><th scope=col>&lt;chr&gt;</th><th scope=col>&lt;int&gt;</th><th scope=col>&lt;int&gt;</th><th scope=col>&lt;int&gt;</th><th scope=col>&lt;int&gt;</th><th scope=col>&lt;fct&gt;</th></tr>\n",
       "</thead>\n",
       "<tbody>\n",
       "\t<tr><th scope=row>1</th><td>2014</td><td>1</td><td>1</td><td> 1</td><td>96</td><td>235</td><td> 70</td><td>AS</td><td>N508AS</td><td> 145</td><td>PDX</td><td>ANC</td><td>194</td><td>1542</td><td>0</td><td> 1</td><td>X</td></tr>\n",
       "\t<tr><th scope=row>2</th><td>2014</td><td>1</td><td>1</td><td> 4</td><td>-6</td><td>738</td><td>-23</td><td>US</td><td>N195UW</td><td>1830</td><td>SEA</td><td>CLT</td><td>252</td><td>2279</td><td>0</td><td> 4</td><td>X</td></tr>\n",
       "\t<tr><th scope=row>3</th><td>2014</td><td>1</td><td>1</td><td> 8</td><td>13</td><td>548</td><td> -4</td><td>UA</td><td>N37422</td><td>1609</td><td>PDX</td><td>IAH</td><td>201</td><td>1825</td><td>0</td><td> 8</td><td>X</td></tr>\n",
       "\t<tr><th scope=row>4</th><td>2014</td><td>1</td><td>1</td><td>28</td><td>-2</td><td>800</td><td>-23</td><td>US</td><td>N547UW</td><td> 466</td><td>PDX</td><td>CLT</td><td>251</td><td>2282</td><td>0</td><td>28</td><td>X</td></tr>\n",
       "\t<tr><th scope=row>5</th><td>2014</td><td>1</td><td>1</td><td>34</td><td>44</td><td>325</td><td> 43</td><td>AS</td><td>N762AS</td><td> 121</td><td>SEA</td><td>ANC</td><td>201</td><td>1448</td><td>0</td><td>34</td><td>X</td></tr>\n",
       "\t<tr><th scope=row>6</th><td>2014</td><td>1</td><td>1</td><td>37</td><td>82</td><td>747</td><td> 88</td><td>DL</td><td>N806DN</td><td>1823</td><td>SEA</td><td>DTW</td><td>224</td><td>1927</td><td>0</td><td>37</td><td>X</td></tr>\n",
       "</tbody>\n",
       "</table>\n"
      ],
      "text/latex": [
       "A data.frame: 6 × 17\n",
       "\\begin{tabular}{r|lllllllllllllllll}\n",
       "  & year & month & day & dep\\_time & dep\\_delay & arr\\_time & arr\\_delay & carrier & tailnum & flight & origin & dest & air\\_time & distance & hour & minute & diaSemana\\\\\n",
       "  & <int> & <int> & <int> & <int> & <int> & <int> & <int> & <chr> & <chr> & <int> & <chr> & <chr> & <int> & <int> & <int> & <int> & <fct>\\\\\n",
       "\\hline\n",
       "\t1 & 2014 & 1 & 1 &  1 & 96 & 235 &  70 & AS & N508AS &  145 & PDX & ANC & 194 & 1542 & 0 &  1 & X\\\\\n",
       "\t2 & 2014 & 1 & 1 &  4 & -6 & 738 & -23 & US & N195UW & 1830 & SEA & CLT & 252 & 2279 & 0 &  4 & X\\\\\n",
       "\t3 & 2014 & 1 & 1 &  8 & 13 & 548 &  -4 & UA & N37422 & 1609 & PDX & IAH & 201 & 1825 & 0 &  8 & X\\\\\n",
       "\t4 & 2014 & 1 & 1 & 28 & -2 & 800 & -23 & US & N547UW &  466 & PDX & CLT & 251 & 2282 & 0 & 28 & X\\\\\n",
       "\t5 & 2014 & 1 & 1 & 34 & 44 & 325 &  43 & AS & N762AS &  121 & SEA & ANC & 201 & 1448 & 0 & 34 & X\\\\\n",
       "\t6 & 2014 & 1 & 1 & 37 & 82 & 747 &  88 & DL & N806DN & 1823 & SEA & DTW & 224 & 1927 & 0 & 37 & X\\\\\n",
       "\\end{tabular}\n"
      ],
      "text/markdown": [
       "\n",
       "A data.frame: 6 × 17\n",
       "\n",
       "| <!--/--> | year &lt;int&gt; | month &lt;int&gt; | day &lt;int&gt; | dep_time &lt;int&gt; | dep_delay &lt;int&gt; | arr_time &lt;int&gt; | arr_delay &lt;int&gt; | carrier &lt;chr&gt; | tailnum &lt;chr&gt; | flight &lt;int&gt; | origin &lt;chr&gt; | dest &lt;chr&gt; | air_time &lt;int&gt; | distance &lt;int&gt; | hour &lt;int&gt; | minute &lt;int&gt; | diaSemana &lt;fct&gt; |\n",
       "|---|---|---|---|---|---|---|---|---|---|---|---|---|---|---|---|---|---|\n",
       "| 1 | 2014 | 1 | 1 |  1 | 96 | 235 |  70 | AS | N508AS |  145 | PDX | ANC | 194 | 1542 | 0 |  1 | X |\n",
       "| 2 | 2014 | 1 | 1 |  4 | -6 | 738 | -23 | US | N195UW | 1830 | SEA | CLT | 252 | 2279 | 0 |  4 | X |\n",
       "| 3 | 2014 | 1 | 1 |  8 | 13 | 548 |  -4 | UA | N37422 | 1609 | PDX | IAH | 201 | 1825 | 0 |  8 | X |\n",
       "| 4 | 2014 | 1 | 1 | 28 | -2 | 800 | -23 | US | N547UW |  466 | PDX | CLT | 251 | 2282 | 0 | 28 | X |\n",
       "| 5 | 2014 | 1 | 1 | 34 | 44 | 325 |  43 | AS | N762AS |  121 | SEA | ANC | 201 | 1448 | 0 | 34 | X |\n",
       "| 6 | 2014 | 1 | 1 | 37 | 82 | 747 |  88 | DL | N806DN | 1823 | SEA | DTW | 224 | 1927 | 0 | 37 | X |\n",
       "\n"
      ],
      "text/plain": [
       "  year month day dep_time dep_delay arr_time arr_delay carrier tailnum flight\n",
       "1 2014 1     1    1       96        235       70       AS      N508AS   145  \n",
       "2 2014 1     1    4       -6        738      -23       US      N195UW  1830  \n",
       "3 2014 1     1    8       13        548       -4       UA      N37422  1609  \n",
       "4 2014 1     1   28       -2        800      -23       US      N547UW   466  \n",
       "5 2014 1     1   34       44        325       43       AS      N762AS   121  \n",
       "6 2014 1     1   37       82        747       88       DL      N806DN  1823  \n",
       "  origin dest air_time distance hour minute diaSemana\n",
       "1 PDX    ANC  194      1542     0     1     X        \n",
       "2 SEA    CLT  252      2279     0     4     X        \n",
       "3 PDX    IAH  201      1825     0     8     X        \n",
       "4 PDX    CLT  251      2282     0    28     X        \n",
       "5 SEA    ANC  201      1448     0    34     X        \n",
       "6 SEA    DTW  224      1927     0    37     X        "
      ]
     },
     "metadata": {},
     "output_type": "display_data"
    }
   ],
   "source": [
    "head(data)"
   ]
  },
  {
   "cell_type": "markdown",
   "metadata": {},
   "source": [
    "**9. Mostrar un diagrama de caja (boxplot) de la variable arr_delay (retraso del vuelo al llegar, medido en minutos) agrupado por el día de la semana. El diagrama debería contener, por tanto, siete cajas con sus bigotes.**\n"
   ]
  },
  {
   "cell_type": "code",
   "execution_count": 37,
   "metadata": {
    "ExecuteTime": {
     "end_time": "2021-08-22T01:50:30.434031Z",
     "start_time": "2021-08-22T01:50:12.862Z"
    }
   },
   "outputs": [
    {
     "data": {
      "image/png": "[encoded data removed]",
      "text/plain": [
       "plot without title"
      ]
     },
     "metadata": {
      "image/png": {
       "height": 420,
       "width": 420
      }
     },
     "output_type": "display_data"
    }
   ],
   "source": [
    "boxplot(data$arr_delay ~ data$diaSemana,col=rainbow(ncol(data)),xlab=\"Día de la semana\",ylab=\"Retraso\")"
   ]
  },
  {
   "cell_type": "markdown",
   "metadata": {},
   "source": [
    "**10. Mostrar dos histogramas uno al lado de otro (usar mfrow con 1 fila y 2 columnas). Ambos deben mostrar la distribución de la variable distance, en un caso para los meses 6 a 9 (verano) y en otro, para los meses 1 a 5 (invierno). ¿Hay alguna diferencia?**"
   ]
  },
  {
   "cell_type": "code",
   "execution_count": 74,
   "metadata": {
    "ExecuteTime": {
     "end_time": "2021-08-22T02:55:55.418387Z",
     "start_time": "2021-08-22T02:55:46.597Z"
    }
   },
   "outputs": [
    {
     "data": {
      "image/png": "[encoded data removed]",
      "text/plain": [
       "Plot with title \"Invierno\""
      ]
     },
     "metadata": {
      "image/png": {
       "height": 420,
       "width": 420
      }
     },
     "output_type": "display_data"
    }
   ],
   "source": [
    "par(mfrow=c(1,2))\n",
    "hist(data$distance[data$month>=6 & data$month<=9],col=rgb(0.2,1,0.8,0.7),xlab=\"Distancia\",\n",
    "     ylab=\"Frecuencia\" ,main=\"Verano\")\n",
    "hist(data$distance[data$month<=5],col=rgb(1,0.4,0.6,0.7),xlab=\"Distancia\",\n",
    "     ylab=\"Frecuencia\" ,main=\"Invierno\")"
   ]
  },
  {
   "cell_type": "markdown",
   "metadata": {},
   "source": [
    "EXISTE UNA DIFERENCIA ENTRE AMBOS HISTOGRAMA. ES POSIBLE VER QUE EN INVIERNO SE REPITE MÁS VECES UNA DISTANCIA EN CONCRETO. ADEMÁS DE ESO, EN INVIERNO SE PRESENTA EL MAYOR NÚMERO DE VUELOS."
   ]
  },
  {
   "cell_type": "code",
   "execution_count": 72,
   "metadata": {
    "ExecuteTime": {
     "end_time": "2021-08-22T02:55:04.885217Z",
     "start_time": "2021-08-22T02:55:04.848Z"
    }
   },
   "outputs": [
    {
     "data": {
      "text/html": [
       "60332"
      ],
      "text/latex": [
       "60332"
      ],
      "text/markdown": [
       "60332"
      ],
      "text/plain": [
       "[1] 60332"
      ]
     },
     "metadata": {},
     "output_type": "display_data"
    }
   ],
   "source": [
    "length(c(data$distance[data$month>=6 & data$month<=9]))"
   ]
  },
  {
   "cell_type": "code",
   "execution_count": 73,
   "metadata": {
    "ExecuteTime": {
     "end_time": "2021-08-22T02:55:30.069535Z",
     "start_time": "2021-08-22T02:55:26.291Z"
    }
   },
   "outputs": [
    {
     "data": {
      "text/html": [
       "63050"
      ],
      "text/latex": [
       "63050"
      ],
      "text/markdown": [
       "63050"
      ],
      "text/plain": [
       "[1] 63050"
      ]
     },
     "metadata": {},
     "output_type": "display_data"
    }
   ],
   "source": [
    "length(c(data$distance[data$month<=5]))"
   ]
  },
  {
   "cell_type": "markdown",
   "metadata": {},
   "source": [
    "**EN ADICIÓN A TODO LO ANTERIOR, DISEÑE UN DASHBOARD O INFORME EN POWER BI QUE ES POSIBLE VERLO A TRAVES DE LA SIGUIENTE LIGA:**"
   ]
  }
 ],
 "metadata": {
  "kernelspec": {
   "display_name": "R",
   "language": "R",
   "name": "ir"
  },
  "language_info": {
   "codemirror_mode": "r",
   "file_extension": ".r",
   "mimetype": "text/x-r-source",
   "name": "R",
   "pygments_lexer": "r",
   "version": "4.0.4"
  },
  "toc": {
   "base_numbering": 1,
   "nav_menu": {},
   "number_sections": true,
   "sideBar": true,
   "skip_h1_title": false,
   "title_cell": "Table of Contents",
   "title_sidebar": "Contents",
   "toc_cell": false,
   "toc_position": {},
   "toc_section_display": true,
   "toc_window_display": false
  },
  "varInspector": {
   "cols": {
    "lenName": 16,
    "lenType": 16,
    "lenVar": 40
   },
   "kernels_config": {
    "python": {
     "delete_cmd_postfix": "",
     "delete_cmd_prefix": "del ",
     "library": "var_list.py",
     "varRefreshCmd": "print(var_dic_list())"
    },
    "r": {
     "delete_cmd_postfix": ") ",
     "delete_cmd_prefix": "rm(",
     "library": "var_list.r",
     "varRefreshCmd": "cat(var_dic_list()) "
    }
   },
   "types_to_exclude": [
    "module",
    "function",
    "builtin_function_or_method",
    "instance",
    "_Feature"
   ],
   "window_display": false
  }
 },
 "nbformat": 4,
 "nbformat_minor": 4
}
